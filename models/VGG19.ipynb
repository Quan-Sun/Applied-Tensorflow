{
 "cells": [
  {
   "cell_type": "markdown",
   "metadata": {},
   "source": [
    "**Reference: [Very Deep Convolutional Networks for Large-Scale Image Recognition](https://arxiv.org/abs/1409.1556)**\n",
    "\n",
    "Adapted from code contributed by **[donnemartin](https://github.com/donnemartin/data-science-ipython-notebooks/tree/master/deep-learning/keras-tutorial/deep_learning_models)**"
   ]
  },
  {
   "cell_type": "code",
   "execution_count": 8,
   "metadata": {},
   "outputs": [],
   "source": [
    "import numpy as np\n",
    "import warnings\n",
    "from keras.models import Model\n",
    "from keras.layers import Flatten,Dense,Input\n",
    "from keras.layers import Convolution2D,MaxPooling2D\n",
    "from keras.preprocessing import image\n",
    "from keras.utils.layer_utils import convert_all_kernels_in_model\n",
    "from keras.utils import get_file\n",
    "from keras import backend as K"
   ]
  },
  {
   "cell_type": "code",
   "execution_count": 2,
   "metadata": {},
   "outputs": [],
   "source": [
    "TF_WEIGHTS_PATH = 'https://github.com/fchollet/deep-learning-models/releases/download/v0.1/vgg19_weights_tf_dim_ordering_tf_kernels.h5'\n",
    "TF_WEIGHTS_PATH_NO_TOP = 'https://github.com/fchollet/deep-learning-models/releases/download/v0.1/vgg19_weights_tf_dim_ordering_tf_kernels_notop.h5'"
   ]
  },
  {
   "cell_type": "code",
   "execution_count": 4,
   "metadata": {},
   "outputs": [],
   "source": [
    "def VGG19(include_top=True,weights='imagenet',input_tensor=None):\n",
    "    '''# Arguments\n",
    "        include_top: whether to include the 3 fully-connected\n",
    "            layers at the top of the network.\n",
    "        weights: one of 'None' (random initialization)\n",
    "            or \"imagenet\" (pre-training on ImageNet).\n",
    "        input_tensor: optional Keras tensor (i.e. output of 'layers.Input()')\n",
    "            to use as image input for the model.'''\n",
    "    if weights not in {'imagenet',None}:\n",
    "        raise ValueError(\"The 'weights' argument should be either 'None' (random initialization) or 'imagenet' (pre-training on ImageNet)\")\n",
    "    if include_top:\n",
    "        input_shape = (224,224,3)\n",
    "    else:\n",
    "        input_shape = (None,None,3)\n",
    "        \n",
    "    if input_tensor is None:\n",
    "        img_input = Input(shape=input_shape)\n",
    "    else:\n",
    "        if not K.is_keras_tensor(input_tensor):\n",
    "            img_input = Input(tensor=input_tensor)\n",
    "        else:\n",
    "            img_input = input_tensor\n",
    "            \n",
    "    # Block 1\n",
    "    x = Convolution2D(64,(3,3),activation='relu',padding='same',name='block1_conv1')(img_input)\n",
    "    x = Convolution2D(64,(3,3),activation='relu',padding='same',name='block1_conv2')(x)\n",
    "    x = MaxPooling2D((2,2),strides=(2,2),name='block1_pool')(x)\n",
    "    \n",
    "    # Block 2\n",
    "    x = Convolution2D(128,(3,3),activation='relu',padding='same',name='block2_conv1')(x)\n",
    "    x = Convolution2D(128,(3,3),activation='relu',padding='same',name='block2_conv2')(x)\n",
    "    x = MaxPooling2D((2,2),strides=(2,2),name='block2_pool')(x)\n",
    "    \n",
    "    # Block 3\n",
    "    x = Convolution2D(256,(3,3),activation='relu',padding='same',name='block3_conv1')(x)\n",
    "    x = Convolution2D(256,(3,3),activation='relu',padding='same',name='block3_conv2')(x)\n",
    "    x = Convolution2D(256,(3,3),activation='relu',padding='same',name='block3_conv3')(x)\n",
    "    x = Convolution2D(256,(3,3),activation='relu',padding='same',name='block3_conv4')(x)\n",
    "    x = MaxPooling2D((2,2),strides=(2,2),name='block3_pool')(x)\n",
    "    \n",
    "    # Block 4\n",
    "    x = Convolution2D(512,(3,3),activation='relu',padding='same',name='block4_conv1')(x)\n",
    "    x = Convolution2D(512,(3,3),activation='relu',padding='same',name='block4_conv2')(x)\n",
    "    x = Convolution2D(512,(3,3),activation='relu',padding='same',name='block4_conv3')(x)\n",
    "    x = Convolution2D(512,(3,3),activation='relu',padding='same',name='block4_conv4')(x)\n",
    "    x = MaxPooling2D((2,2),strides=(2,2),name='block4_pool')(x)\n",
    "    \n",
    "    #Block 5\n",
    "    x = Convolution2D(512,(3,3),activation='relu',padding='same',name='block5_conv1')(x)\n",
    "    x = Convolution2D(512,(3,3),activation='relu',padding='same',name='block5_conv2')(x)\n",
    "    x = Convolution2D(512,(3,3),activation='relu',padding='same',name='block5_conv3')(x)\n",
    "    x = Convolution2D(512,(3,3),activation='relu',padding='same',name='block5_conv4')(x)\n",
    "    x = MaxPooling2D((2,2),strides=(2,2),name='block5_pool')(x)\n",
    "    \n",
    "    if include_top:\n",
    "        x = Flatten(name='flatten')(x)\n",
    "        x = Dense(4096,activation='relu',name='fc1')(x)\n",
    "        x = Dense(4096,activation='relu',name='fc2')(x)\n",
    "        x = Dense(1000,activation='softmax',name='predictions')(x)\n",
    "        \n",
    "    model = Model(img_input,x)\n",
    "    \n",
    "    if weights=='imagenet':\n",
    "        print('K.image_dim_ordering:',K.image_dim_ordering())\n",
    "        if include_top:\n",
    "            weights_path = get_file('vgg19_weights_tf_dim_ordering_tf_kernels.h5',\n",
    "                                   TF_WEIGHTS_PATH,\n",
    "                                   cache_subdir='models')\n",
    "        else:\n",
    "            weights_path = get_file('vgg19_weights_tf_dim_ordering_tf_kernels_notop.h5',\n",
    "                                   TF_WEIGHTS_PATH_NO_TOP,\n",
    "                                   cache_subdir='models')\n",
    "            \n",
    "        model.load_weights(weights_path)\n",
    "    return model\n",
    "    "
   ]
  },
  {
   "cell_type": "code",
   "execution_count": 5,
   "metadata": {},
   "outputs": [],
   "source": [
    "def preprocess_input(x, dim_ordering='default'):\n",
    "    if dim_ordering == 'default':\n",
    "        dim_ordering = K.image_dim_ordering()\n",
    "    assert dim_ordering in {'tf', 'th'}\n",
    "\n",
    "    if dim_ordering == 'th':\n",
    "        x[:, 0, :, :] -= 103.939\n",
    "        x[:, 1, :, :] -= 116.779\n",
    "        x[:, 2, :, :] -= 123.68\n",
    "        # 'RGB'->'BGR'\n",
    "        x = x[:, ::-1, :, :]\n",
    "    else:\n",
    "        x[:, :, :, 0] -= 103.939\n",
    "        x[:, :, :, 1] -= 116.779\n",
    "        x[:, :, :, 2] -= 123.68\n",
    "        # 'RGB'->'BGR'\n",
    "        x = x[:, :, :, ::-1]\n",
    "    return x"
   ]
  },
  {
   "cell_type": "code",
   "execution_count": 6,
   "metadata": {},
   "outputs": [],
   "source": [
    "import json\n",
    "CLASS_INDEX = None\n",
    "CLASS_INDEX_PATH = 'https://s3.amazonaws.com/deep-learning-models/image-models/imagenet_class_index.json'\n",
    "def decode_predictions(preds):\n",
    "    global CLASS_INDEX\n",
    "    assert len(preds.shape) == 2 and preds.shape[1] == 1000\n",
    "    if CLASS_INDEX is None:\n",
    "        fpath = get_file('imagenet_class_index.json',\n",
    "                         CLASS_INDEX_PATH,\n",
    "                         cache_subdir='models')\n",
    "        CLASS_INDEX = json.load(open(fpath))\n",
    "    indices = np.argmax(preds, axis=-1)\n",
    "    results = []\n",
    "    for i in indices:\n",
    "        results.append(CLASS_INDEX[str(i)])\n",
    "    return results"
   ]
  },
  {
   "cell_type": "code",
   "execution_count": 7,
   "metadata": {},
   "outputs": [
    {
     "name": "stdout",
     "output_type": "stream",
     "text": [
      "K.image_dim_ordering: tf\n",
      "Downloading data from https://github.com/fchollet/deep-learning-models/releases/download/v0.1/vgg19_weights_tf_dim_ordering_tf_kernels.h5\n",
      "574717952/574710816 [==============================] - 71s 0us/step\n",
      "Input image shape: (1, 224, 224, 3)\n",
      "Predicted: [['n07745940', 'strawberry']]\n"
     ]
    }
   ],
   "source": [
    "model = VGG19(include_top=True,weights='imagenet')\n",
    "img_path = 'strawberry.jpeg'\n",
    "img = image.load_img(img_path,target_size=(224,224))\n",
    "x = image.img_to_array(img)\n",
    "x = np.expand_dims(x,axis=0)\n",
    "x = preprocess_input(x)\n",
    "print('Input image shape:',x.shape)\n",
    "\n",
    "preds = model.predict(x)\n",
    "print('Predicted:',decode_predictions(preds))"
   ]
  },
  {
   "cell_type": "code",
   "execution_count": null,
   "metadata": {},
   "outputs": [],
   "source": []
  }
 ],
 "metadata": {
  "kernelspec": {
   "display_name": "Python 3",
   "language": "python",
   "name": "python3"
  },
  "language_info": {
   "codemirror_mode": {
    "name": "ipython",
    "version": 3
   },
   "file_extension": ".py",
   "mimetype": "text/x-python",
   "name": "python",
   "nbconvert_exporter": "python",
   "pygments_lexer": "ipython3",
   "version": "3.6.5"
  }
 },
 "nbformat": 4,
 "nbformat_minor": 2
}
