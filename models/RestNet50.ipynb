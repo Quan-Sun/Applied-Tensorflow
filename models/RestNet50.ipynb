{
 "cells": [
  {
   "cell_type": "markdown",
   "metadata": {},
   "source": [
    "**Reference: [Deep Residual Learning for Image Recognition](https://arxiv.org/abs/1512.03385)**\n",
    "\n",
    "Adapted from code contributed by **[donnemartin](https://github.com/donnemartin/data-science-ipython-notebooks/tree/master/deep-learning/keras-tutorial/deep_learning_models)**"
   ]
  },
  {
   "cell_type": "code",
   "execution_count": 2,
   "metadata": {},
   "outputs": [
    {
     "name": "stderr",
     "output_type": "stream",
     "text": [
      "/Users/quansun/anaconda3/lib/python3.6/site-packages/h5py/__init__.py:36: FutureWarning: Conversion of the second argument of issubdtype from `float` to `np.floating` is deprecated. In future, it will be treated as `np.float64 == np.dtype(float).type`.\n",
      "  from ._conv import register_converters as _register_converters\n",
      "Using TensorFlow backend.\n"
     ]
    }
   ],
   "source": [
    "import numpy as np\n",
    "import warnings\n",
    "from keras.layers import Input\n",
    "from keras.layers import add\n",
    "from keras.layers import Dense, Activation, Flatten\n",
    "from keras.layers import Convolution2D, MaxPooling2D, ZeroPadding2D, AveragePooling2D\n",
    "from keras.layers import BatchNormalization\n",
    "from keras.models import Model\n",
    "from keras.preprocessing import image\n",
    "import keras.backend as K\n",
    "from keras.utils.data_utils import get_file"
   ]
  },
  {
   "cell_type": "code",
   "execution_count": 3,
   "metadata": {},
   "outputs": [],
   "source": [
    "WEIGHTS_PATH = 'https://github.com/fchollet/deep-learning-models/releases/download/v0.2/resnet50_weights_tf_dim_ordering_tf_kernels.h5'\n",
    "WEIGHTS_PATH_NO_TOP = 'https://github.com/fchollet/deep-learning-models/releases/download/v0.2/resnet50_weights_tf_dim_ordering_tf_kernels_notop.h5'"
   ]
  },
  {
   "cell_type": "code",
   "execution_count": 4,
   "metadata": {},
   "outputs": [],
   "source": [
    "def identity_block(input_tensor,kernel_size,filters,stage,block):\n",
    "    nb_filter1, nb_filter2, nb_filter3 = filters\n",
    "    bn_axis=3\n",
    "    \n",
    "    conv_name_base = 'res' + str(stage) + block + '_branch'\n",
    "    bn_name_base = 'bn' + str(stage) + block + '_branch'\n",
    "    \n",
    "    x = Convolution2D(nb_filter1, (1, 1), name=conv_name_base + '2a')(input_tensor)\n",
    "    x = BatchNormalization(axis=bn_axis, name=bn_name_base + '2a')(x)\n",
    "    x = Activation('relu')(x)\n",
    "    \n",
    "    x = Convolution2D(nb_filter2,kernel_size=kernel_size,\n",
    "                      padding='same',name=conv_name_base+'2b')(x)\n",
    "    x = BatchNormalization(axis=bn_axis,name=bn_name_base+'2b')(x)\n",
    "    x = Activation('relu')(x)\n",
    "    \n",
    "    x = Convolution2D(nb_filter3, (1, 1), name=conv_name_base+'2c')(x)\n",
    "    x = BatchNormalization(axis=bn_axis,name=bn_name_base+'2c')(x)\n",
    "    \n",
    "    x = add([x, input_tensor])\n",
    "    x = Activation('relu')(x)\n",
    "    return x"
   ]
  },
  {
   "cell_type": "code",
   "execution_count": 5,
   "metadata": {},
   "outputs": [],
   "source": [
    "def conv_block(input_tensor,kernel_size,filters,stage,block,strides=(2,2)):\n",
    "    nb_filter1,nb_filter2,nb_filter3 = filters\n",
    "    if K.image_dim_ordering() == 'tf':\n",
    "        bn_axis=3\n",
    "    else:\n",
    "        bn_axis=1\n",
    "    conv_name_base = 'res' + str(stage) + block + '_branch'\n",
    "    bn_name_base = 'res' + str(stage) + block + '_brach'\n",
    "    \n",
    "    x = Convolution2D(nb_filter1,(1,1),strides=strides,\n",
    "                     name=conv_name_base+'2a')(input_tensor)\n",
    "    x = BatchNormalization(axis=bn_axis,name=bn_name_base+'2a')(x)\n",
    "    x = Activation('relu')(x)\n",
    "    \n",
    "    x = Convolution2D(nb_filter2,kernel_size,\n",
    "                     padding='same',name=conv_name_base+'2b')(x)\n",
    "    x = BatchNormalization(axis=bn_axis,name=bn_name_base+'2b')(x)\n",
    "    x = Activation('relu')(x)\n",
    "    \n",
    "    x = Convolution2D(nb_filter3,(1,1),name=conv_name_base+'2c')(x)\n",
    "    x = BatchNormalization(axis=bn_axis,name=bn_name_base+'2c')(x)\n",
    "    \n",
    "    shortcut = Convolution2D(nb_filter3,(1,1),strides=strides,\n",
    "                           name=conv_name_base+'1')(input_tensor)\n",
    "    shortcut = BatchNormalization(axis=bn_axis,name=bn_name_base+'1')(shortcut)\n",
    "    \n",
    "    x = add([x, shortcut])\n",
    "    x = Activation('relu')(x)\n",
    "    return x"
   ]
  },
  {
   "cell_type": "code",
   "execution_count": 6,
   "metadata": {},
   "outputs": [],
   "source": [
    "def ResNet50(include_top=True,weights='imagenet',\n",
    "            input_tensor=None):\n",
    "    ''' Arguments\n",
    "        include_top: whether to include the 3 fully-connected\n",
    "            layers at the top of the network.\n",
    "        weights: one of `None` (random initialization)\n",
    "            or \"imagenet\" (pre-training on ImageNet).\n",
    "        input_tensor: optional Keras tensor'''\n",
    "    if weights not in {'imagenet',None}:\n",
    "        raise ValueError(\"The 'weights' argument should be either 'None' (random initialization) or 'imagenet' (pre-training on ImageNet)\")\n",
    "    if include_top:\n",
    "            input_shape=(224,224,3)\n",
    "    else:\n",
    "            input_size=(None,None,3)\n",
    "    if input_tensor is None:\n",
    "        img_input = Input(shape=input_shape)\n",
    "    else:\n",
    "        if not K.is_keras_tensor(input_tensor):\n",
    "            img_input = Input(tensor=input_tensor)\n",
    "        else:\n",
    "            img_input = input_tensor\n",
    "    \n",
    "    bn_axis=3\n",
    "        \n",
    "    x = ZeroPadding2D((3,3))(img_input)\n",
    "    x = Convolution2D(64,(7,7),strides=(2,2),name='conv1')(x)\n",
    "    x = BatchNormalization(axis=bn_axis,name='bn_conv1')(x)\n",
    "    x = Activation('relu')(x)\n",
    "    x = MaxPooling2D((3,3),strides=(2,2))(x)\n",
    "    \n",
    "    x = conv_block(x,(3,3),[64,64,256],stage=2,block='a',strides=(1,1))\n",
    "    x = identity_block(x,(3,3),[64,64,256],stage=2,block='b')\n",
    "    x = identity_block(x,(3,3),[64,64,256],stage=2,block='c')\n",
    "    \n",
    "    x = conv_block(x,(3,3),[128,128,512],stage=3,block='a')\n",
    "    x = identity_block(x,(3,3),[128,128,512],stage=3,block='b')\n",
    "    x = identity_block(x,(3,3),[128,128,512],stage=3,block='c')\n",
    "    x = identity_block(x,(3,3),[128,128,512],stage=3,block='d')\n",
    "    \n",
    "    x = conv_block(x,(3,3),[256,256,1024],stage=4,block='a')\n",
    "    x = identity_block(x,(3,3),[256,256,1024],stage=4,block='b')\n",
    "    x = identity_block(x,(3,3),[256,256,1024],stage=4,block='c')\n",
    "    x = identity_block(x,(3,3),[256,256,1024],stage=4,block='d')\n",
    "    x = identity_block(x,(3,3),[256,256,1024],stage=4,block='e')\n",
    "    x = identity_block(x,(3,3),[256,256,1024],stage=4,block='f')\n",
    "    \n",
    "    x = conv_block(x,(3,3),[512,512,2048],stage=5,block='a')\n",
    "    x = identity_block(x,(3,3),[512,512,2048],stage=5,block='b')\n",
    "    x = identity_block(x,(3,3),[512,512,2048],stage=5,block='c')\n",
    "    \n",
    "    x = AveragePooling2D((7,7),name='avg_pool')(x)\n",
    "    \n",
    "    if include_top:\n",
    "        x = Flatten()(x)\n",
    "        x = Dense(1000,activation='softmax',name='fc1000')(x)\n",
    "    \n",
    "    model = Model(img_input,x)\n",
    "    if weights=='imagenet':\n",
    "        if include_top:\n",
    "                weights_path = get_file('resnet50_weights_tf_dim_ordering_tf_kernels.h5',\n",
    "                                        WEIGHTS_PATH,\n",
    "                                        cache_subdir='models',\n",
    "                                        md5_hash='a7b3fe01876f51b976af0dea6bc144eb')\n",
    "        else:\n",
    "            weights_path = get_file('resnet50_weights_tf_dim_ordering_tf_kernels_notop.h5',\n",
    "                                    WEIGHTS_PATH_NO_TOP,\n",
    "                                    cache_subdir='models',\n",
    "                                    md5_hash='a268eb855778b3df3c7506639542a6af')\n",
    "        model.load_weights(weights_path)\n",
    "    return model"
   ]
  },
  {
   "cell_type": "code",
   "execution_count": 7,
   "metadata": {},
   "outputs": [],
   "source": [
    "def preprocess_input(x):\n",
    "    x[:, :, :, 0] -= 103.939\n",
    "    x[:, :, :, 1] -= 116.779\n",
    "    x[:, :, :, 2] -= 123.68\n",
    "    # 'RGB'->'BGR'\n",
    "    x = x[:, :, :, ::-1]\n",
    "    return x"
   ]
  },
  {
   "cell_type": "code",
   "execution_count": 8,
   "metadata": {},
   "outputs": [],
   "source": [
    "import json\n",
    "CLASS_INDEX = None\n",
    "CLASS_INDEX_PATH = 'https://s3.amazonaws.com/deep-learning-models/image-models/imagenet_class_index.json'\n",
    "def decode_predictions(preds):\n",
    "    global CLASS_INDEX\n",
    "    assert len(preds.shape) == 2 and preds.shape[1] == 1000\n",
    "    if CLASS_INDEX is None:\n",
    "        fpath = get_file('imagenet_class_index.json',\n",
    "                         CLASS_INDEX_PATH,\n",
    "                         cache_subdir='models')\n",
    "        CLASS_INDEX = json.load(open(fpath))\n",
    "    indices = np.argmax(preds, axis=-1)\n",
    "    results = []\n",
    "    for i in indices:\n",
    "        results.append(CLASS_INDEX[str(i)])\n",
    "    return results"
   ]
  },
  {
   "cell_type": "code",
   "execution_count": 9,
   "metadata": {},
   "outputs": [
    {
     "name": "stdout",
     "output_type": "stream",
     "text": [
      "Input image shape: (1, 224, 224, 3)\n",
      "Predicted: [['n07745940', 'strawberry']]\n"
     ]
    }
   ],
   "source": [
    "model = ResNet50(include_top=True,weights='imagenet')\n",
    "img_path='strawberry.jpeg'\n",
    "img = image.load_img(img_path,target_size=(224,224))\n",
    "x = image.img_to_array(img)\n",
    "x = np.expand_dims(x,axis=0)\n",
    "x = preprocess_input(x)\n",
    "print ('Input image shape:',x.shape)\n",
    "\n",
    "preds = model.predict(x)\n",
    "print('Predicted:', decode_predictions(preds))"
   ]
  },
  {
   "cell_type": "code",
   "execution_count": null,
   "metadata": {},
   "outputs": [],
   "source": []
  }
 ],
 "metadata": {
  "kernelspec": {
   "display_name": "Python 3",
   "language": "python",
   "name": "python3"
  },
  "language_info": {
   "codemirror_mode": {
    "name": "ipython",
    "version": 3
   },
   "file_extension": ".py",
   "mimetype": "text/x-python",
   "name": "python",
   "nbconvert_exporter": "python",
   "pygments_lexer": "ipython3",
   "version": "3.6.5"
  }
 },
 "nbformat": 4,
 "nbformat_minor": 2
}
