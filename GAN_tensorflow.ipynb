{
 "cells": [
  {
   "cell_type": "code",
   "execution_count": 1,
   "metadata": {},
   "outputs": [
    {
     "name": "stderr",
     "output_type": "stream",
     "text": [
      "/Users/quansun/anaconda3/lib/python3.6/site-packages/h5py/__init__.py:36: FutureWarning: Conversion of the second argument of issubdtype from `float` to `np.floating` is deprecated. In future, it will be treated as `np.float64 == np.dtype(float).type`.\n",
      "  from ._conv import register_converters as _register_converters\n"
     ]
    }
   ],
   "source": [
    "import tensorflow as tf\n",
    "from tensorflow.examples.tutorials.mnist import input_data\n",
    "import numpy as np\n",
    "import matplotlib.pyplot as plt\n",
    "import matplotlib.gridspec as gridspec\n",
    "import os"
   ]
  },
  {
   "cell_type": "code",
   "execution_count": 2,
   "metadata": {},
   "outputs": [],
   "source": [
    "X = tf.placeholder(tf.float32,shape=[None,784])\n",
    "\n",
    "initializer = tf.contrib.layers.xavier_initializer()\n",
    "\n",
    "D_W1 = tf.Variable(initializer((784,128)))\n",
    "D_b1 = tf.Variable(tf.zeros(shape=[128]))\n",
    "\n",
    "D_W2 = tf.Variable(initializer((128,1)))\n",
    "D_b2 = tf.Variable(tf.zeros(shape=[1]))\n",
    "\n",
    "theta_D = [D_W1,D_W2,D_b1,D_b2]\n",
    "\n",
    "Z = tf.placeholder(tf.float32,shape=[None,100])\n",
    "\n",
    "G_W1 = tf.Variable(initializer((100,128)))\n",
    "G_b1 = tf.Variable(tf.zeros(shape=[128]))\n",
    "\n",
    "G_W2 = tf.Variable(initializer((128,784)))\n",
    "G_b2 = tf.Variable(tf.zeros(shape=[784]))\n",
    "\n",
    "theta_G = [G_W1,G_W2,G_b1,G_b2]"
   ]
  },
  {
   "cell_type": "code",
   "execution_count": 3,
   "metadata": {},
   "outputs": [],
   "source": [
    "def sample_Z(m,n):\n",
    "    return np.random.uniform(-1.,1.,size=[m,n])"
   ]
  },
  {
   "cell_type": "code",
   "execution_count": 4,
   "metadata": {},
   "outputs": [],
   "source": [
    "def generator(z):\n",
    "    G_h1 = tf.nn.relu(tf.matmul(z,G_W1)+G_b1)\n",
    "    G_log_prob = tf.matmul(G_h1,G_W2)+G_b2\n",
    "    G_prob = tf.nn.sigmoid(G_log_prob)\n",
    "    return G_prob"
   ]
  },
  {
   "cell_type": "code",
   "execution_count": 5,
   "metadata": {},
   "outputs": [],
   "source": [
    "def discriminator(x):\n",
    "    D_h1 = tf.nn.relu(tf.matmul(x,D_W1)+D_b1)\n",
    "    D_logit = tf.matmul(D_h1,D_W2)+D_b2\n",
    "    D_prob = tf.nn.sigmoid(D_logit)\n",
    "    return D_prob,D_logit"
   ]
  },
  {
   "cell_type": "code",
   "execution_count": 6,
   "metadata": {},
   "outputs": [],
   "source": [
    "def plot(samples):\n",
    "    fig = plt.figure(figsize=(4,4))\n",
    "    gs = gridspec.GridSpec(4,4)\n",
    "    gs.update(wspace=0.05,hspace=0.05)\n",
    "    \n",
    "    for i,sample in enumerate(samples):\n",
    "        ax = plt.subplot(gs[i])\n",
    "        plt.axis('off')\n",
    "        ax.set_xticklabels([])\n",
    "        ax.set_yticklabels([])\n",
    "        ax.set_aspect('equal')\n",
    "        plt.imshow(sample.reshape(28,28),cmap='Greys_r')\n",
    "    return fig"
   ]
  },
  {
   "cell_type": "code",
   "execution_count": 8,
   "metadata": {},
   "outputs": [],
   "source": [
    "G_sample = generator(Z)\n",
    "\n",
    "D_real, D_logit_real = discriminator(X)\n",
    "D_fake, D_logit_fake = discriminator(G_sample)\n",
    "\n",
    "D_loss_real = tf.reduce_mean(tf.nn.sigmoid_cross_entropy_with_logits(logits=D_logit_real,labels=tf.ones_like(D_logit_real)))\n",
    "D_loss_fake = tf.reduce_mean(tf.nn.sigmoid_cross_entropy_with_logits(logits=D_logit_fake,labels=tf.zeros_like(D_logit_fake)))\n",
    "\n",
    "D_loss = D_loss_real + D_loss_fake\n",
    "\n",
    "G_loss = tf.reduce_mean(tf.nn.sigmoid_cross_entropy_with_logits(logits=D_logit_fake,labels=tf.ones_like(D_logit_fake)))\n",
    "\n",
    "D_solver = tf.train.AdamOptimizer().minimize(D_loss,var_list=theta_D)\n",
    "G_solver = tf.train.AdamOptimizer().minimize(G_loss,var_list=theta_G)"
   ]
  },
  {
   "cell_type": "code",
   "execution_count": 11,
   "metadata": {},
   "outputs": [
    {
     "name": "stdout",
     "output_type": "stream",
     "text": [
      "Extracting ./mnist/train-images-idx3-ubyte.gz\n",
      "Extracting ./mnist/train-labels-idx1-ubyte.gz\n",
      "Extracting ./mnist/t10k-images-idx3-ubyte.gz\n",
      "Extracting ./mnist/t10k-labels-idx1-ubyte.gz\n",
      "Iter: 0\n",
      "D_loss: 1.072\n",
      "G_loss: 2.652\n",
      "Iter: 2000\n",
      "D_loss: 0.03403\n",
      "G_loss: 6.082\n",
      "Iter: 4000\n",
      "D_loss: 0.01975\n",
      "G_loss: 6.727\n",
      "Iter: 6000\n",
      "D_loss: 0.2602\n",
      "G_loss: 6.076\n",
      "Iter: 8000\n",
      "D_loss: 0.3122\n",
      "G_loss: 4.424\n",
      "Iter: 10000\n",
      "D_loss: 0.4966\n",
      "G_loss: 3.529\n",
      "Iter: 12000\n",
      "D_loss: 0.5231\n",
      "G_loss: 2.986\n",
      "Iter: 14000\n",
      "D_loss: 0.5613\n",
      "G_loss: 2.603\n",
      "Iter: 16000\n",
      "D_loss: 0.5687\n",
      "G_loss: 2.311\n",
      "Iter: 18000\n",
      "D_loss: 0.6578\n",
      "G_loss: 2.589\n"
     ]
    }
   ],
   "source": [
    "batch_size=128\n",
    "Z_dim = 100\n",
    "\n",
    "mnist = input_data.read_data_sets('./mnist',one_hot=True)\n",
    "\n",
    "sess = tf.Session()\n",
    "sess.run(tf.global_variables_initializer())\n",
    "\n",
    "if not os.path.exists('output/'):\n",
    "    os.makedirs('output/')\n",
    "    \n",
    "i = 0\n",
    "for iteration in range(20000):\n",
    "    if iteration % 2000 == 0:\n",
    "        samples = sess.run(G_sample,feed_dict={Z:sample_Z(16,Z_dim)})\n",
    "        \n",
    "        fig = plot(samples)\n",
    "        plt.savefig('output/{}.jpg'.format(str(i).zfill(3)),bbox_inches='tight')\n",
    "        i+=1\n",
    "        plt.close(fig)\n",
    "        \n",
    "    X_batch, _ = mnist.train.next_batch(batch_size)\n",
    "    _,D_loss_current = sess.run([D_solver,D_loss],feed_dict={X:X_batch,Z:sample_Z(batch_size,Z_dim)})\n",
    "    _,G_loss_current = sess.run([G_solver,G_loss],feed_dict={Z:sample_Z(batch_size,Z_dim)})\n",
    "    \n",
    "    if iteration % 2000 == 0:\n",
    "        print('Iter: {}'.format(iteration))\n",
    "        print('D_loss: {:.4}'.format(D_loss_current))\n",
    "        print('G_loss: {:.4}'.format(G_loss_current))"
   ]
  },
  {
   "cell_type": "code",
   "execution_count": null,
   "metadata": {},
   "outputs": [],
   "source": []
  }
 ],
 "metadata": {
  "kernelspec": {
   "display_name": "Python 3",
   "language": "python",
   "name": "python3"
  },
  "language_info": {
   "codemirror_mode": {
    "name": "ipython",
    "version": 3
   },
   "file_extension": ".py",
   "mimetype": "text/x-python",
   "name": "python",
   "nbconvert_exporter": "python",
   "pygments_lexer": "ipython3",
   "version": "3.6.5"
  }
 },
 "nbformat": 4,
 "nbformat_minor": 2
}
