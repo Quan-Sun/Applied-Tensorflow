{
 "cells": [
  {
   "cell_type": "code",
   "execution_count": 1,
   "metadata": {},
   "outputs": [
    {
     "name": "stderr",
     "output_type": "stream",
     "text": [
      "/Users/quansun/anaconda3/lib/python3.6/site-packages/h5py/__init__.py:36: FutureWarning: Conversion of the second argument of issubdtype from `float` to `np.floating` is deprecated. In future, it will be treated as `np.float64 == np.dtype(float).type`.\n",
      "  from ._conv import register_converters as _register_converters\n"
     ]
    }
   ],
   "source": [
    "import tensorflow as tf\n",
    "from tensorflow.examples.tutorials.mnist import input_data\n",
    "import numpy as np"
   ]
  },
  {
   "cell_type": "code",
   "execution_count": 3,
   "metadata": {},
   "outputs": [
    {
     "name": "stdout",
     "output_type": "stream",
     "text": [
      "Extracting ./MNIST/train-images-idx3-ubyte.gz\n",
      "Extracting ./MNIST/train-labels-idx1-ubyte.gz\n",
      "Extracting ./MNIST/t10k-images-idx3-ubyte.gz\n",
      "Extracting ./MNIST/t10k-labels-idx1-ubyte.gz\n"
     ]
    }
   ],
   "source": [
    "mnist = input_data.read_data_sets(\"./MNIST\", one_hot = True)"
   ]
  },
  {
   "cell_type": "code",
   "execution_count": 5,
   "metadata": {},
   "outputs": [
    {
     "name": "stdout",
     "output_type": "stream",
     "text": [
      "(55000, 784)\n"
     ]
    }
   ],
   "source": [
    "print(mnist.train.images.shape)"
   ]
  },
  {
   "cell_type": "code",
   "execution_count": 6,
   "metadata": {},
   "outputs": [
    {
     "name": "stdout",
     "output_type": "stream",
     "text": [
      "(55000, 10)\n"
     ]
    }
   ],
   "source": [
    "print(mnist.train.labels.shape)"
   ]
  },
  {
   "cell_type": "code",
   "execution_count": 7,
   "metadata": {},
   "outputs": [
    {
     "name": "stdout",
     "output_type": "stream",
     "text": [
      "55000\n",
      "5000\n",
      "10000\n"
     ]
    }
   ],
   "source": [
    "print(mnist.train.num_examples)\n",
    "print(mnist.validation.num_examples)\n",
    "print(mnist.test.num_examples)"
   ]
  },
  {
   "cell_type": "code",
   "execution_count": 8,
   "metadata": {},
   "outputs": [],
   "source": [
    "def weight(shape):\n",
    "    initial = tf.truncated_normal(shape, stddev=0.1)\n",
    "    return tf.Variable(initial)\n",
    "\n",
    "def bias(shape):\n",
    "    initial = tf.constant(0.1, shape=shape)\n",
    "    return tf.Variable(initial)\n",
    "\n",
    "def conv2d(x, W, padding='SAME'):\n",
    "    return tf.nn.conv2d(x, W, strides = [1,1,1,1], padding = padding)\n",
    "\n",
    "def max_pool_2x2(x):\n",
    "    return tf.nn.max_pool(x, ksize = [1,2,2,1], strides = [1,2,2,1], padding='VALID')"
   ]
  },
  {
   "cell_type": "code",
   "execution_count": 10,
   "metadata": {},
   "outputs": [],
   "source": [
    "batch_size = 64\n",
    "epochs = 10000\n",
    "lr = 0.01\n",
    "C1 = 32 #1st conv \n",
    "C2 = 64 #2st conv \n",
    "C3 = 512\n",
    "\n",
    "x = tf.placeholder(tf.float32, [None, 28*28])\n",
    "x_image = tf.reshape(x, [-1,28,28,1])\n",
    "\n",
    "W_conv1 = weight([5,5,1,C1])\n",
    "b_conv1 = bias([C1])\n",
    "h_conv1 = conv2d(x_image, W_conv1) + b_conv1\n",
    "h_conv1 = tf.nn.relu(h_conv1)\n",
    "h_pool1 = max_pool_2x2(h_conv1) # 14*14*C1\n",
    "\n",
    "W_conv2 = weight([5,5,C1,C2])\n",
    "b_conv2 = bias([C2])\n",
    "h_conv2 = conv2d(h_pool1, W_conv2) + b_conv2\n",
    "h_conv2 = tf.nn.relu(h_conv2)\n",
    "h_pool2 = max_pool_2x2(h_conv2) # 7 * 7 * C2\n",
    "\n",
    "h_pool2_flat = tf.reshape(h_pool2, [-1, 7*7*C2])\n",
    "W_fc = weight([7*7*C2, C3])\n",
    "b_fc = bias([C3])\n",
    "h_fc = tf.matmul(h_pool2_flat, W_fc) + b_fc\n",
    "h_fc = tf.nn.relu(h_fc)\n",
    "\n",
    "p_keep = tf.placeholder(tf.float32)\n",
    "h_fc = tf.nn.dropout(h_fc, p_keep)\n",
    "\n",
    "W_out = weight([C3, 10])\n",
    "b_out = bias([10])\n",
    "y_pred = tf.matmul(h_fc, W_out) + b_out\n",
    "\n",
    "y_gt = tf.placeholder(tf.float32, [None, 10])\n",
    "loss = tf.reduce_mean(tf.nn.softmax_cross_entropy_with_logits_v2(logits=y_pred, labels=y_gt))\n",
    "\n",
    "optimizer = tf.train.AdamOptimizer()\n",
    "train_step = optimizer.minimize(loss)\n",
    "\n",
    "correct_prediction = tf.equal(tf.argmax(y_pred, 1), tf.argmax(y_gt, 1))\n",
    "accuracy = tf.reduce_mean(tf.cast(correct_prediction, tf.float32))"
   ]
  },
  {
   "cell_type": "code",
   "execution_count": 11,
   "metadata": {},
   "outputs": [
    {
     "data": {
      "text/plain": [
       "'\"def random_batch(train_images, train_labels, batch_size):\\n    num_images = len(train_images)\\n    idx = np.random.choice(num_images, size=batch_size, replace=False)\\n    batch_x = train_images[idx]\\n    batch_y = train_labels[idx]\\n    return batch_x, batch_y'"
      ]
     },
     "execution_count": 11,
     "metadata": {},
     "output_type": "execute_result"
    }
   ],
   "source": [
    "\"\"\"\"def random_batch(train_images, train_labels, batch_size):\n",
    "    num_images = len(train_images)\n",
    "    idx = np.random.choice(num_images, size=batch_size, replace=False)\n",
    "    batch_x = train_images[idx]\n",
    "    batch_y = train_labels[idx]\n",
    "    return batch_x, batch_y\"\"\""
   ]
  },
  {
   "cell_type": "code",
   "execution_count": null,
   "metadata": {
    "scrolled": true
   },
   "outputs": [
    {
     "name": "stdout",
     "output_type": "stream",
     "text": [
      "Iter 0, training loss 5.835118, training accuracy 0.250000, validation accuracy 0.162600\n",
      "Test accuracy: 0.174500\n",
      "Iter 100, training loss 0.284190, training accuracy 0.921875, validation accuracy 0.929400\n",
      "Test accuracy: 0.931200\n",
      "Iter 200, training loss 0.176236, training accuracy 0.953125, validation accuracy 0.965200\n",
      "Test accuracy: 0.963300\n",
      "Iter 300, training loss 0.036065, training accuracy 1.000000, validation accuracy 0.974200\n",
      "Test accuracy: 0.970000\n",
      "Iter 400, training loss 0.164722, training accuracy 0.968750, validation accuracy 0.974800\n",
      "Test accuracy: 0.974300\n",
      "Iter 500, training loss 0.010226, training accuracy 1.000000, validation accuracy 0.977800\n",
      "Test accuracy: 0.979200\n",
      "Iter 600, training loss 0.021275, training accuracy 0.984375, validation accuracy 0.978200\n",
      "Test accuracy: 0.980400\n",
      "Iter 700, training loss 0.064804, training accuracy 0.984375, validation accuracy 0.979200\n",
      "Test accuracy: 0.980800\n",
      "Iter 800, training loss 0.108168, training accuracy 0.968750, validation accuracy 0.983600\n",
      "Test accuracy: 0.984000\n",
      "Iter 900, training loss 0.019448, training accuracy 1.000000, validation accuracy 0.983200\n",
      "Test accuracy: 0.982700\n"
     ]
    }
   ],
   "source": [
    "sess = tf.InteractiveSession()\n",
    "tf.global_variables_initializer().run()\n",
    "\n",
    "mnist.train.images.reshape([55000, 28, 28, 1])\n",
    "mnist.validation.images.reshape([5000, 28, 28, 1])\n",
    "mnist.test.images.reshape([10000, 28, 28, 1])\n",
    "\n",
    "for iter in range(epochs):\n",
    "    batch_x, batch_y = mnist.train.next_batch(batch_size)\n",
    "    sess.run(train_step, feed_dict={x:batch_x, y_gt:batch_y, p_keep:0.5})\n",
    "    if iter%100 == 0:\n",
    "        train_loss = sess.run(loss, feed_dict={x:batch_x, y_gt:batch_y, p_keep:1.0})\n",
    "        train_accuracy = sess.run(accuracy, feed_dict={x:batch_x, y_gt:batch_y, p_keep:1.0})\n",
    "        \n",
    "        validation_x = mnist.validation.images\n",
    "        validation_y = mnist.validation.labels\n",
    "        validation_accuracy = sess.run(accuracy, feed_dict={x:validation_x, y_gt:validation_y, p_keep:1.0})\n",
    "        print(\"Iter %d, training loss %f, training accuracy %f, validation accuracy %f\" % (iter, train_loss, train_accuracy, validation_accuracy))\n",
    "        \n",
    "        test_x = mnist.test.images\n",
    "        test_y = mnist.test.labels\n",
    "        test_accuracy = sess.run(accuracy, feed_dict={x:test_x, y_gt:test_y, p_keep:1.0})\n",
    "        print(\"Test accuracy: %f\" % test_accuracy)"
   ]
  },
  {
   "cell_type": "code",
   "execution_count": 44,
   "metadata": {},
   "outputs": [
    {
     "data": {
      "image/png": "[encoded data removed]",
      "text/plain": [
       "<matplotlib.figure.Figure at 0x1958e1749e8>"
      ]
     },
     "metadata": {},
     "output_type": "display_data"
    },
    {
     "name": "stdout",
     "output_type": "stream",
     "text": [
      "Ground Truth is: 7\n",
      "Model Prediction: 7\n"
     ]
    },
    {
     "data": {
      "image/png": "[encoded data removed]",
      "text/plain": [
       "<matplotlib.figure.Figure at 0x1958d030d68>"
      ]
     },
     "metadata": {},
     "output_type": "display_data"
    },
    {
     "name": "stdout",
     "output_type": "stream",
     "text": [
      "Ground Truth is: 2\n",
      "Model Prediction: 2\n"
     ]
    },
    {
     "data": {
      "image/png": "[encoded data removed]",
      "text/plain": [
       "<matplotlib.figure.Figure at 0x1958e1e9588>"
      ]
     },
     "metadata": {},
     "output_type": "display_data"
    },
    {
     "name": "stdout",
     "output_type": "stream",
     "text": [
      "Ground Truth is: 1\n",
      "Model Prediction: 1\n"
     ]
    },
    {
     "data": {
      "image/png": "[encoded data removed]",
      "text/plain": [
       "<matplotlib.figure.Figure at 0x1958e22f0f0>"
      ]
     },
     "metadata": {},
     "output_type": "display_data"
    },
    {
     "name": "stdout",
     "output_type": "stream",
     "text": [
      "Ground Truth is: 0\n",
      "Model Prediction: 0\n"
     ]
    },
    {
     "data": {
      "image/png": "[encoded data removed]",
      "text/plain": [
       "<matplotlib.figure.Figure at 0x1958e283358>"
      ]
     },
     "metadata": {},
     "output_type": "display_data"
    },
    {
     "name": "stdout",
     "output_type": "stream",
     "text": [
      "Ground Truth is: 4\n",
      "Model Prediction: 4\n"
     ]
    },
    {
     "data": {
      "image/png": "[encoded data removed]",
      "text/plain": [
       "<matplotlib.figure.Figure at 0x1958e2ca780>"
      ]
     },
     "metadata": {},
     "output_type": "display_data"
    },
    {
     "name": "stdout",
     "output_type": "stream",
     "text": [
      "Ground Truth is: 1\n",
      "Model Prediction: 1\n"
     ]
    },
    {
     "data": {
      "image/png": "[encoded data removed]",
      "text/plain": [
       "<matplotlib.figure.Figure at 0x1958e30ea58>"
      ]
     },
     "metadata": {},
     "output_type": "display_data"
    },
    {
     "name": "stdout",
     "output_type": "stream",
     "text": [
      "Ground Truth is: 4\n",
      "Model Prediction: 4\n"
     ]
    },
    {
     "data": {
      "image/png": "[encoded data removed]",
      "text/plain": [
       "<matplotlib.figure.Figure at 0x1958e34c0b8>"
      ]
     },
     "metadata": {},
     "output_type": "display_data"
    },
    {
     "name": "stdout",
     "output_type": "stream",
     "text": [
      "Ground Truth is: 9\n",
      "Model Prediction: 9\n"
     ]
    },
    {
     "data": {
      "image/png": "[encoded data removed]",
      "text/plain": [
       "<matplotlib.figure.Figure at 0x1958e3c2ac8>"
      ]
     },
     "metadata": {},
     "output_type": "display_data"
    },
    {
     "name": "stdout",
     "output_type": "stream",
     "text": [
      "Ground Truth is: 5\n",
      "Model Prediction: 5\n"
     ]
    },
    {
     "data": {
      "image/png": "[encoded data removed]",
      "text/plain": [
       "<matplotlib.figure.Figure at 0x1958e3da0f0>"
      ]
     },
     "metadata": {},
     "output_type": "display_data"
    },
    {
     "name": "stdout",
     "output_type": "stream",
     "text": [
      "Ground Truth is: 9\n",
      "Model Prediction: 9\n"
     ]
    }
   ],
   "source": [
    "import matplotlib.pyplot as plt\n",
    "for i in range(10):\n",
    "    img = mnist.test.images[i]\n",
    "    label = mnist.test.labels[i]\n",
    "    \n",
    "    plt.figure(figsize=(1,1))\n",
    "    plt.imshow(img.reshape([28,28]), cmap='gray')\n",
    "    plt.show()\n",
    "    cls = np.argmax(label)\n",
    "    print(\"Ground Truth is:\", cls)\n",
    "    \n",
    "    pred_label = sess.run(y_pred, feed_dict={x:img.reshape([-1,28*28]), p_keep:1.0})\n",
    "    pred_cls = np.argmax(pred_label)\n",
    "    print(\"Model Prediction:\", pred_cls)\n",
    "    "
   ]
  },
  {
   "cell_type": "code",
   "execution_count": null,
   "metadata": {},
   "outputs": [],
   "source": []
  },
  {
   "cell_type": "code",
   "execution_count": null,
   "metadata": {},
   "outputs": [],
   "source": []
  }
 ],
 "metadata": {
  "kernelspec": {
   "display_name": "Python 3",
   "language": "python",
   "name": "python3"
  },
  "language_info": {
   "codemirror_mode": {
    "name": "ipython",
    "version": 3
   },
   "file_extension": ".py",
   "mimetype": "text/x-python",
   "name": "python",
   "nbconvert_exporter": "python",
   "pygments_lexer": "ipython3",
   "version": "3.6.5"
  }
 },
 "nbformat": 4,
 "nbformat_minor": 2
}
