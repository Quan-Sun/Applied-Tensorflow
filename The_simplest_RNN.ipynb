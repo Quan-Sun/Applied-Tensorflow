{
 "cells": [
  {
   "cell_type": "code",
   "execution_count": 3,
   "metadata": {},
   "outputs": [],
   "source": [
    "import tensorflow as tf\n",
    "from tensorflow.examples.tutorials.mnist import input_data"
   ]
  },
  {
   "cell_type": "code",
   "execution_count": 4,
   "metadata": {},
   "outputs": [
    {
     "name": "stdout",
     "output_type": "stream",
     "text": [
      "Extracting ./mnist/train-images-idx3-ubyte.gz\n",
      "Extracting ./mnist/train-labels-idx1-ubyte.gz\n",
      "Extracting ./mnist/t10k-images-idx3-ubyte.gz\n",
      "Extracting ./mnist/t10k-labels-idx1-ubyte.gz\n",
      "Epoch 0, training loss 2.16545, training accuracy 0.21875, testing accuracy 0.1577\n",
      "Epoch 1000, training loss 0.135674, training accuracy 1, testing accuracy 0.9626\n",
      "Epoch 2000, training loss 0.0137244, training accuracy 1, testing accuracy 0.9694\n",
      "Epoch 3000, training loss 0.069286, training accuracy 0.96875, testing accuracy 0.9726\n",
      "Epoch 4000, training loss 0.175874, training accuracy 0.9375, testing accuracy 0.9662\n",
      "Epoch 5000, training loss 0.00314505, training accuracy 1, testing accuracy 0.9747\n",
      "Epoch 6000, training loss 0.0463306, training accuracy 1, testing accuracy 0.9658\n",
      "Epoch 7000, training loss 0.00248529, training accuracy 1, testing accuracy 0.978\n",
      "Epoch 8000, training loss 0.196162, training accuracy 0.96875, testing accuracy 0.976\n",
      "Epoch 9000, training loss 0.0646948, training accuracy 0.96875, testing accuracy 0.9781\n"
     ]
    }
   ],
   "source": [
    "mnist = input_data.read_data_sets('./mnist',one_hot=True)\n",
    "\n",
    "n_input = 28\n",
    "n_steps = 28\n",
    "n_hidden = 128\n",
    "n_classes = 10\n",
    "\n",
    "learning_rate = 0.01\n",
    "epochs = 10000\n",
    "batch_size = 32\n",
    "\n",
    "x = tf.placeholder(tf.float32, [None, n_steps, n_input])\n",
    "y = tf.placeholder(tf.float32, [None, n_classes])\n",
    "\n",
    "W_out = tf.Variable(tf.truncated_normal([n_hidden, n_classes], stddev=0.1))\n",
    "b_out = tf.constant(0.1,shape=[n_classes])\n",
    "\n",
    "def RNN(x, weights, biases):\n",
    "    x = tf.unstack(x,n_steps,1)\n",
    "    lstm_cell = tf.nn.run_cell.LSTMCell(n_hidden, forget_bias=1.0)\n",
    "    output, state = tf.nn.static_rnn(lstm_cell,x,dtype=tf.float32)\n",
    "    return tf.matmul(output[-1],weights)+biases\n",
    "\n",
    "y_pred = RNN(x, W_out, b_out)\n",
    "loss = tf.reduce_mean(tf.nn.softmax_cross_entropy_with_logits_v2(logits=y_pred, labels=y))\n",
    "optimizer = tf.train.AdamOptimizer(learning_rate)\n",
    "train_step = optimizer.minimize(loss)\n",
    "\n",
    "correct_prediction = tf.equal(tf.argmax(y,1),tf.argmax(y_pred,1))\n",
    "accuracy = tf.reduce_mean(tf.cast(correct_prediction, tf.float32))\n",
    "\n",
    "with tf.Session() as sess:\n",
    "    sess.run(tf.global_variables_initializer())\n",
    "    for epoch in range(epochs):\n",
    "        batch_x, batch_y = mnist.train.next_batch(batch_size)\n",
    "        batch_x = batch_x.reshape([batch_size,n_steps,n_input])\n",
    "        sess.run(train_step, feed_dict={x:batch_x, y:batch_y})\n",
    "        if epoch % 1000 == 0:\n",
    "            train_acc = sess.run(accuracy, feed_dict={x:batch_x,y:batch_y})\n",
    "            train_loss = sess.run(loss, feed_dict={x:batch_x,y:batch_y})\n",
    "            test_acc = sess.run(accuracy, feed_dict={x:mnist.test.images.reshape([-1,n_steps,n_input]), y:mnist.test.labels})\n",
    "            print(\"Epoch %d, training loss %g, training accuracy %g, testing accuracy %g\" % (epoch, train_loss, train_acc, test_acc))"
   ]
  },
  {
   "cell_type": "code",
   "execution_count": null,
   "metadata": {},
   "outputs": [],
   "source": []
  }
 ],
 "metadata": {
  "kernelspec": {
   "display_name": "Python 3",
   "language": "python",
   "name": "python3"
  },
  "language_info": {
   "codemirror_mode": {
    "name": "ipython",
    "version": 3
   },
   "file_extension": ".py",
   "mimetype": "text/x-python",
   "name": "python",
   "nbconvert_exporter": "python",
   "pygments_lexer": "ipython3",
   "version": "3.6.5"
  }
 },
 "nbformat": 4,
 "nbformat_minor": 2
}
